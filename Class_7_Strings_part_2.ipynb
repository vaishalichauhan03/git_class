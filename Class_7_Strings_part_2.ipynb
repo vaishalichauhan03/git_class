{
 "cells": [
  {
   "cell_type": "code",
   "execution_count": 3,
   "id": "badfdf9b",
   "metadata": {},
   "outputs": [
    {
     "data": {
      "text/plain": [
       "'2018'"
      ]
     },
     "execution_count": 3,
     "metadata": {},
     "output_type": "execute_result"
    }
   ],
   "source": [
    "a=\"2018-04-01\"\n",
    "a[-10:-6:1]"
   ]
  },
  {
   "cell_type": "code",
   "execution_count": 11,
   "id": "565036b6",
   "metadata": {},
   "outputs": [
    {
     "name": "stdout",
     "output_type": "stream",
     "text": [
      "python.learnbay@gmail.com\n",
      "python\n",
      "python.learnbay@gmail.com\n",
      "python\n"
     ]
    }
   ],
   "source": [
    "a = 'user_name: python.learnbay@gmail.com'\n",
    "b = 'password: python'\n",
    "# print(a[11::])\n",
    "# print(b[10::])\n",
    "\n",
    "len(a)"
   ]
  },
  {
   "cell_type": "markdown",
   "id": "1b8a6530",
   "metadata": {},
   "source": [
    "# Properties of string\n",
    "\n",
    "- String is a seq data type it allows +ve and -ve indexing\n",
    "- +ve indexing starts from 0\n",
    "- -ve indexing starts from  -1\n",
    "- Indexing - accessing 1 char \n",
    "- Slicing - extracting multiple char\n",
    "- Concatination - joining 2 strings \n",
    "- repetition - repeats the str specified number of times\n",
    "- identity - Checks for the ID of the strings\n",
    "- Membership - Checks if the sub string is present or not\n",
    "- String is immutable - you cannot change the object"
   ]
  },
  {
   "cell_type": "code",
   "execution_count": 20,
   "id": "7c58bf52",
   "metadata": {},
   "outputs": [
    {
     "name": "stdout",
     "output_type": "stream",
     "text": [
      "learnbaypython\n"
     ]
    }
   ],
   "source": [
    "# Concatination\n",
    "\n",
    "a = 'learnbay'\n",
    "b = 'python'\n",
    "print(a+b)"
   ]
  },
  {
   "cell_type": "code",
   "execution_count": 27,
   "id": "a91f8d74",
   "metadata": {},
   "outputs": [
    {
     "name": "stdout",
     "output_type": "stream",
     "text": [
      "h\n",
      "learnbay\n"
     ]
    }
   ],
   "source": [
    "# - String is immutable - you cannot change the object\n",
    "\n",
    "a = 'python'\n",
    "print(a[3])\n",
    "\n",
    "\n",
    "#a[3] = 'q'\n",
    "\n",
    "a = 'learnbay'\n",
    "print(a)"
   ]
  },
  {
   "cell_type": "code",
   "execution_count": 34,
   "id": "2daa07c5",
   "metadata": {},
   "outputs": [
    {
     "name": "stdout",
     "output_type": "stream",
     "text": [
      "learnbaybay\n",
      "learnbay1\n"
     ]
    }
   ],
   "source": [
    "# Concatination oparands( + )\n",
    "# Both the data should be str \n",
    "\n",
    "a = 'learnbay'\n",
    "b = 'bay'\n",
    "\n",
    "print(a+b)\n",
    "\n",
    "print(a+'1')"
   ]
  },
  {
   "cell_type": "markdown",
   "id": "728ba91d",
   "metadata": {},
   "source": [
    "# Repetition\n",
    "\n",
    "* op - *\n",
    "\n",
    "* One should be str and other should be an int"
   ]
  },
  {
   "cell_type": "code",
   "execution_count": 40,
   "id": "4bd8f52b",
   "metadata": {},
   "outputs": [
    {
     "name": "stdout",
     "output_type": "stream",
     "text": [
      "abcabcabcabcabc\n"
     ]
    }
   ],
   "source": [
    "a = 'abc'\n",
    "print(a*5)"
   ]
  },
  {
   "cell_type": "markdown",
   "id": "fef9cfe5",
   "metadata": {},
   "source": [
    "# Identity operators \n",
    "\n",
    "* is and is not\n",
    "- tells if the memory address of 2 operands is same or no\n",
    "- It always returns boolean value"
   ]
  },
  {
   "cell_type": "code",
   "execution_count": 43,
   "id": "6cd12b2b",
   "metadata": {},
   "outputs": [
    {
     "name": "stdout",
     "output_type": "stream",
     "text": [
      "True\n"
     ]
    }
   ],
   "source": [
    "a = 'python@ '\n",
    "b = 'python@ '\n",
    "print(a is not b)"
   ]
  },
  {
   "cell_type": "markdown",
   "id": "45c67b57",
   "metadata": {},
   "source": [
    "# Membership operators \n",
    "- op - in and not in\n",
    "\n",
    "- tells us if the sub str is present in the seq or not\n",
    "- always be in bool"
   ]
  },
  {
   "cell_type": "code",
   "execution_count": 52,
   "id": "e62704c6",
   "metadata": {},
   "outputs": [
    {
     "name": "stdout",
     "output_type": "stream",
     "text": [
      "True\n"
     ]
    }
   ],
   "source": [
    "a = 'This is julybatch of learnbay python$'\n",
    "\n",
    "print('july' in a)"
   ]
  },
  {
   "cell_type": "code",
   "execution_count": 77,
   "id": "c545b48f",
   "metadata": {},
   "outputs": [
    {
     "name": "stdout",
     "output_type": "stream",
     "text": [
      "False\n"
     ]
    }
   ],
   "source": [
    "a = 'This is july batch of learnbay python$'\n",
    "\n",
    "print('July batch' in a)"
   ]
  },
  {
   "cell_type": "code",
   "execution_count": 159,
   "id": "753c7ef1",
   "metadata": {},
   "outputs": [
    {
     "name": "stdout",
     "output_type": "stream",
     "text": [
      "found\n",
      "found\n"
     ]
    }
   ],
   "source": [
    "my_str = 'hello world how are you this world id great'\n",
    "\n",
    "a = my_str.split()\n",
    "# print(a)\n",
    "\n",
    "for i in a:\n",
    "    if i.startswith('w') == True:\n",
    "        print('found')"
   ]
  },
  {
   "cell_type": "markdown",
   "id": "44288c1b",
   "metadata": {},
   "source": [
    "# Functions of the string"
   ]
  },
  {
   "cell_type": "code",
   "execution_count": 83,
   "id": "34ce378f",
   "metadata": {},
   "outputs": [
    {
     "name": "stdout",
     "output_type": "stream",
     "text": [
      "['__add__', '__class__', '__contains__', '__delattr__', '__dir__', '__doc__', '__eq__', '__format__', '__ge__', '__getattribute__', '__getitem__', '__getnewargs__', '__gt__', '__hash__', '__init__', '__init_subclass__', '__iter__', '__le__', '__len__', '__lt__', '__mod__', '__mul__', '__ne__', '__new__', '__reduce__', '__reduce_ex__', '__repr__', '__rmod__', '__rmul__', '__setattr__', '__sizeof__', '__str__', '__subclasshook__', 'capitalize', 'casefold', 'center', 'count', 'encode', 'endswith', 'expandtabs', 'find', 'format', 'format_map', 'index', 'isalnum', 'isalpha', 'isascii', 'isdecimal', 'isdigit', 'isidentifier', 'islower', 'isnumeric', 'isprintable', 'isspace', 'istitle', 'isupper', 'join', 'ljust', 'lower', 'lstrip', 'maketrans', 'partition', 'removeprefix', 'removesuffix', 'replace', 'rfind', 'rindex', 'rjust', 'rpartition', 'rsplit', 'rstrip', 'split', 'splitlines', 'startswith', 'strip', 'swapcase', 'title', 'translate', 'upper', 'zfill']\n"
     ]
    }
   ],
   "source": [
    "print(dir(str))"
   ]
  },
  {
   "cell_type": "code",
   "execution_count": 147,
   "id": "475c3409",
   "metadata": {},
   "outputs": [
    {
     "name": "stdout",
     "output_type": "stream",
     "text": [
      "['__add__', '__class__', '__class_getitem__', '__contains__', '__delattr__', '__delitem__', '__dir__', '__doc__', '__eq__', '__format__', '__ge__', '__getattribute__', '__getitem__', '__gt__', '__hash__', '__iadd__', '__imul__', '__init__', '__init_subclass__', '__iter__', '__le__', '__len__', '__lt__', '__mul__', '__ne__', '__new__', '__reduce__', '__reduce_ex__', '__repr__', '__reversed__', '__rmul__', '__setattr__', '__setitem__', '__sizeof__', '__str__', '__subclasshook__', 'append', 'clear', 'copy', 'count', 'extend', 'index', 'insert', 'pop', 'remove', 'reverse', 'sort']\n"
     ]
    }
   ],
   "source": [
    "print(dir(list))"
   ]
  },
  {
   "cell_type": "code",
   "execution_count": 101,
   "id": "c1e6877b",
   "metadata": {},
   "outputs": [
    {
     "name": "stdout",
     "output_type": "stream",
     "text": [
      "This is a pythons class\n",
      "*********\n",
      "THIS IS A PYTHONS CLASS\n",
      "*********\n",
      "this is a pythons class\n",
      "*********\n",
      "THIS IS A pythons CLASS\n",
      "*********\n",
      "This Is A Pythons Class\n"
     ]
    }
   ],
   "source": [
    "p\n",
    "\n",
    "\n",
    "# capitalize- It capitlizes the first letter of the str to capital and rest all to lower\n",
    "\n",
    "print(my_str.capitalize())\n",
    "\n",
    "print('*********')\n",
    "# upper - all the char will be in upper case \n",
    "print(my_str.upper())\n",
    "\n",
    "print('*********')\n",
    "# Lower - converts the char in lower case \n",
    "print(my_str.lower())\n",
    "\n",
    "print('*********')\n",
    "# swapcase - converts upper to lower and lower to upper \n",
    "print(my_str.swapcase())\n",
    "\n",
    "print('*********')\n",
    "# title -  converts each words first letter to capital rest all to lower\n",
    "print(my_str.title())"
   ]
  },
  {
   "cell_type": "code",
   "execution_count": 131,
   "id": "06aa704c",
   "metadata": {},
   "outputs": [
    {
     "name": "stdout",
     "output_type": "stream",
     "text": [
      "False\n",
      "*********\n",
      "False\n",
      "*********\n",
      "True\n",
      "*********\n",
      "False\n"
     ]
    }
   ],
   "source": [
    "# methods that returns the output as bool\n",
    "my_str = 'hello world how are you this world id great'\n",
    "\n",
    "# Startswith - returns true if string starts with the specified prefix, otherwise false\n",
    "print(my_str.startswith('world'))\n",
    "\n",
    "print('*********')\n",
    "\n",
    "print(my_str.startswith('o',6,10))\n",
    "\n",
    "print('*********')\n",
    "\n",
    "# endswith - returns true if string ends with the specified prefix, otherwise false\n",
    "print(my_str.endswith('great'))\n",
    "print('*********')\n",
    "print(my_str.endswith('w',0,14))"
   ]
  },
  {
   "cell_type": "code",
   "execution_count": 151,
   "id": "01beed83",
   "metadata": {},
   "outputs": [
    {
     "name": "stdout",
     "output_type": "stream",
     "text": [
      "True\n",
      "True\n",
      "False\n",
      "True\n",
      "********\n",
      "True\n",
      "False\n",
      "False\n",
      "False\n",
      "********\n",
      "False\n",
      "False\n",
      "False\n",
      "True\n"
     ]
    }
   ],
   "source": [
    "# m\n",
    "s1 = 'abc'\n",
    "s2 = '123abc'\n",
    "s3 = '123abc*'\n",
    "s4 = '112'\n",
    "\n",
    "# isalnum - returns true if either alpha/num or mix of both\n",
    "print(s1.isalnum()) # \n",
    "print(s2.isalnum()) # \n",
    "print(s3.isalnum()) # \n",
    "print(s4.isalnum()) # \n",
    "\n",
    "print('********')\n",
    "# isaplha\n",
    "print(s1.isalpha()) # \n",
    "print(s2.isalpha()) # \n",
    "print(s3.isalpha()) # \n",
    "print(s4.isalpha()) # \n",
    "\n",
    "print('********')\n",
    "# isnumeric\n",
    "print(s1.isnumeric()) # \n",
    "print(s2.isnumeric()) # \n",
    "print(s3.isnumeric()) # \n",
    "print(s4.isnumeric()) # "
   ]
  },
  {
   "cell_type": "code",
   "execution_count": 158,
   "id": "266af5ea",
   "metadata": {},
   "outputs": [
    {
     "name": "stdout",
     "output_type": "stream",
     "text": [
      "True\n",
      "False\n",
      "False\n",
      "True\n",
      "True\n",
      "********\n",
      "True\n",
      "True\n",
      "True\n",
      "False\n"
     ]
    }
   ],
   "source": [
    "s1 = 'abc'\n",
    "s2 = '123abc'\n",
    "s3 = '123abc*'\n",
    "s4 = 'बहे'\n",
    "s5 = 'abc_123'\n",
    "\n",
    "print(s1.isidentifier()) # \n",
    "print(s2.isidentifier()) # \n",
    "print(s3.isidentifier()) # \n",
    "print(s4.isidentifier()) # \n",
    "print(s5.isidentifier()) # \n",
    "\n",
    "print('********')\n",
    "print(s1.isascii()) # tt\n",
    "print(s2.isascii()) # t\n",
    "print(s3.isascii()) # t\n",
    "print(s4.isascii()) # f"
   ]
  },
  {
   "cell_type": "markdown",
   "id": "f71ed884",
   "metadata": {},
   "source": [
    "# Special and escape functions in"
   ]
  },
  {
   "cell_type": "code",
   "execution_count": 160,
   "id": "a3cabd59",
   "metadata": {},
   "outputs": [
    {
     "name": "stdout",
     "output_type": "stream",
     "text": [
      "hello\n",
      "world\n"
     ]
    }
   ],
   "source": [
    "# \\n--> new line\n",
    "\n",
    "print('hello\\nworld')"
   ]
  },
  {
   "cell_type": "code",
   "execution_count": 161,
   "id": "8286eb03",
   "metadata": {},
   "outputs": [
    {
     "name": "stdout",
     "output_type": "stream",
     "text": [
      "hello\tworld\n"
     ]
    }
   ],
   "source": [
    "# \\t--> a tab space\n",
    "\n",
    "print('hello\\tworld')"
   ]
  },
  {
   "cell_type": "code",
   "execution_count": 162,
   "id": "838bf3f7",
   "metadata": {},
   "outputs": [
    {
     "name": "stdout",
     "output_type": "stream",
     "text": [
      "hello\\tworld\n"
     ]
    }
   ],
   "source": [
    "# \\--> aback slash - escape char\n",
    "\n",
    "print('hello\\\\tworld')"
   ]
  },
  {
   "cell_type": "code",
   "execution_count": 163,
   "id": "95946d99",
   "metadata": {},
   "outputs": [
    {
     "name": "stdout",
     "output_type": "stream",
     "text": [
      "hello\\nworld\n"
     ]
    }
   ],
   "source": [
    "# \\--> back slash - escape char\n",
    "\n",
    "print('hello\\\\nworld')"
   ]
  },
  {
   "cell_type": "code",
   "execution_count": 164,
   "id": "94999e5c",
   "metadata": {},
   "outputs": [
    {
     "name": "stdout",
     "output_type": "stream",
     "text": [
      "hello\bworld\n"
     ]
    }
   ],
   "source": [
    "# \\b--> back space\n",
    "\n",
    "print('hello\\bworld')"
   ]
  },
  {
   "cell_type": "code",
   "execution_count": 165,
   "id": "94dc7a0a",
   "metadata": {},
   "outputs": [
    {
     "name": "stdout",
     "output_type": "stream",
     "text": [
      "ab\bc\n"
     ]
    }
   ],
   "source": [
    "# \\b--> back space\n",
    "# ab\\bc\n",
    "print('ab'+'\\b'+'c')"
   ]
  },
  {
   "cell_type": "code",
   "execution_count": 171,
   "id": "719bdfc2",
   "metadata": {},
   "outputs": [
    {
     "name": "stdout",
     "output_type": "stream",
     "text": [
      "1111\r",
      "2222\n"
     ]
    }
   ],
   "source": [
    "# \\r - carraige return - moves all the char after the \\r to the begining of the string\n",
    "\n",
    "print('1111\\r2222')"
   ]
  },
  {
   "cell_type": "code",
   "execution_count": 170,
   "id": "fe7b5c43",
   "metadata": {},
   "outputs": [
    {
     "name": "stdout",
     "output_type": "stream",
     "text": [
      "Hello\r",
      "wo\n"
     ]
    }
   ],
   "source": [
    "print('Hello\\rwo') #worlo"
   ]
  },
  {
   "cell_type": "code",
   "execution_count": 175,
   "id": "75b54737",
   "metadata": {},
   "outputs": [
    {
     "name": "stdout",
     "output_type": "stream",
     "text": [
      "hello\\nworld\n",
      "hello\\t\\\\nworld\n"
     ]
    }
   ],
   "source": [
    "# raw string\n",
    "\n",
    "print('hello\\\\nworld')\n",
    "print(r'hello\\t\\\\nworld')"
   ]
  },
  {
   "cell_type": "code",
   "execution_count": 17,
   "id": "e5127490",
   "metadata": {},
   "outputs": [
    {
     "name": "stdout",
     "output_type": "stream",
     "text": [
      "False\n",
      "False\n",
      "False\n",
      "False\n",
      "False\n",
      "*********\n",
      "False\n",
      "True\n",
      "True\n",
      "False\n",
      "False\n",
      "*********\n",
      "True\n",
      "False\n",
      "False\n",
      "False\n",
      "False\n"
     ]
    }
   ],
   "source": [
    "s1 = 'Abc Asda'\n",
    "s2 = '123abc'\n",
    "s3 = '123abc*'\n",
    "s4 = 'बहे'\n",
    "s5 = 'PYTHON Dasd'\n",
    "\n",
    "print(s1.isupper()) # \n",
    "print(s2.isupper()) # \n",
    "print(s3.isupper()) # \n",
    "print(s4.isupper()) # \n",
    "print(s5.isupper()) # \n",
    "\n",
    "print('*********')\n",
    "print(s1.islower()) # \n",
    "print(s2.islower()) # \n",
    "print(s3.islower()) # \n",
    "print(s4.islower()) # \n",
    "print(s5.islower()) # \n",
    "\n",
    "print('*********')\n",
    "print(s1.istitle()) # \n",
    "print(s2.istitle()) # \n",
    "print(s3.istitle()) # \n",
    "print(s4.istitle()) # \n",
    "print(s5.istitle()) # "
   ]
  },
  {
   "cell_type": "code",
   "execution_count": 18,
   "id": "986d94ac",
   "metadata": {},
   "outputs": [
    {
     "name": "stdout",
     "output_type": "stream",
     "text": [
      "\\\\192.162.22.90\\toy\\bat\n"
     ]
    }
   ],
   "source": [
    "str_1 = r'\\\\192.162.22.90\\toy\\bat'\n",
    "print(str_1)"
   ]
  },
  {
   "cell_type": "code",
   "execution_count": 10,
   "id": "b63fba01",
   "metadata": {},
   "outputs": [
    {
     "name": "stdout",
     "output_type": "stream",
     "text": [
      "hello\\bworld\tpyhton\n"
     ]
    }
   ],
   "source": [
    "print('hello\\\\bworld\\tpyhton')"
   ]
  },
  {
   "cell_type": "code",
   "execution_count": 21,
   "id": "6b5fa170",
   "metadata": {},
   "outputs": [
    {
     "name": "stdout",
     "output_type": "stream",
     "text": [
      "hello\\nworld\n"
     ]
    }
   ],
   "source": [
    "print('hello\\\\nworld')"
   ]
  },
  {
   "cell_type": "markdown",
   "id": "f0784d33",
   "metadata": {},
   "source": [
    "# Strip, lstrip, rstip"
   ]
  },
  {
   "cell_type": "code",
   "execution_count": 45,
   "id": "20c64492",
   "metadata": {},
   "outputs": [
    {
     "name": "stdout",
     "output_type": "stream",
     "text": [
      "Found it\n",
      "The index of that word in string is:  6\n",
      "Found it\n",
      "The index of that word in string is:  29\n"
     ]
    }
   ],
   "source": [
    "a = 'Hello world how are you this world is great'\n",
    "b = a.split()\n",
    "ind = 1\n",
    "index_in_string=0\n",
    "for i in b:\n",
    "    if i.startswith('wor') == True:\n",
    "        print('Found it')\n",
    "        print(\"The index of that word in string is: \", index_in_string)\n",
    "    index_in_string+=(len(i)+1)\n",
    "    ind+=1"
   ]
  },
  {
   "cell_type": "code",
   "execution_count": 28,
   "id": "8f52ab5e",
   "metadata": {},
   "outputs": [
    {
     "name": "stdout",
     "output_type": "stream",
     "text": [
      "alan\\bjoh\bn\n",
      "alan\bjoh\bn\n",
      "alan\\bjoh\\bn\n"
     ]
    }
   ],
   "source": [
    "# back slash\n",
    "\n",
    "print('alan\\\\bjoh\\bn') # alan\\bjon\n",
    "\n",
    "# back space\n",
    "\n",
    "print('alan\\bjoh\\bn') # alajon\n",
    "\n",
    "\n",
    "print(r'alan\\bjoh\\bn') # alan\\bjon"
   ]
  },
  {
   "cell_type": "code",
   "execution_count": null,
   "id": "a7532721",
   "metadata": {},
   "outputs": [],
   "source": []
  },
  {
   "cell_type": "code",
   "execution_count": null,
   "id": "dc34a0ea",
   "metadata": {},
   "outputs": [],
   "source": []
  }
 ],
 "metadata": {
  "kernelspec": {
   "display_name": "Python 3 (ipykernel)",
   "language": "python",
   "name": "python3"
  },
  "language_info": {
   "codemirror_mode": {
    "name": "ipython",
    "version": 3
   },
   "file_extension": ".py",
   "mimetype": "text/x-python",
   "name": "python",
   "nbconvert_exporter": "python",
   "pygments_lexer": "ipython3",
   "version": "3.9.12"
  }
 },
 "nbformat": 4,
 "nbformat_minor": 5
}
